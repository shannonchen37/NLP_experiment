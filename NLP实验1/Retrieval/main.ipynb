{
 "cells": [
  {
   "cell_type": "code",
   "execution_count": 51,
   "metadata": {},
   "outputs": [],
   "source": [
    "import os\n",
    "import jieba\n",
    "import numpy as np\n",
    "from sklearn.feature_selection import SelectKBest, chi2\n",
    "from sklearn.feature_extraction.text import TfidfVectorizer"
   ]
  },
  {
   "cell_type": "code",
   "execution_count": 21,
   "metadata": {},
   "outputs": [],
   "source": [
    "# 停用词列表\n",
    "stopwords = []\n",
    "\n",
    "# 加载停用词列表\n",
    "with open('../stopwords/cn_stopwords.txt', encoding='utf-8') as f:\n",
    "    for line in f:\n",
    "        stopwords.append(line.strip())\n",
    "\n",
    "with open('../stopwords/hit_stopwords.txt', encoding='utf-8') as f:\n",
    "    for line in f:\n",
    "        stopwords.append(line.strip())\n",
    "\n",
    "with open('../stopwords/baidu_stopwords.txt', encoding='utf-8') as f:\n",
    "    for line in f:\n",
    "        stopwords.append(line.strip())\n",
    "\n",
    "with open('../stopwords/scu_stopwords.txt', encoding='utf-8') as f:\n",
    "    for line in f:\n",
    "        stopwords.append(line.strip())"
   ]
  },
  {
   "cell_type": "code",
   "execution_count": 33,
   "metadata": {},
   "outputs": [
    {
     "name": "stdout",
     "output_type": "stream",
     "text": [
      "dealing with train\n",
      "dealing with 18\n",
      "dealing with 9\n",
      "dealing with 17\n",
      "dealing with 8\n",
      "dealing with 23\n",
      "dealing with 14\n",
      "dealing with 4\n",
      "dealing with 6\n",
      "dealing with 24\n",
      "dealing with 3\n",
      "dealing with 2\n",
      "dealing with 22\n",
      "dealing with 20\n",
      "dealing with 12\n",
      "dealing with 21\n",
      "dealing with 7\n",
      "dealing with 16\n",
      "dealing with 13\n",
      "dealing with 1\n",
      "dealing with 25\n",
      "dealing with 10\n",
      "dealing with 15\n",
      "dealing with 5\n",
      "dealing with 11\n",
      "dealing with 26\n",
      "dealing with 19\n"
     ]
    }
   ],
   "source": [
    "# 读取train数据集\n",
    "data = []\n",
    "labels = []\n",
    "for root, dirs, files in os.walk('./Chinese_Information_Retrieval_Task_Dataset/train'):\n",
    "    print('dealing with {}'.format(root.split('/')[-1]))\n",
    "    for file in files:\n",
    "        with open(os.path.join(root, file), 'r', encoding='GB2312',errors='ignore') as f:\n",
    "            content = f.read()\n",
    "            # 中文分词\n",
    "            words = jieba.lcut(content)\n",
    "            # 过滤停用词和数字\n",
    "            words = [word for word in words if word not in stopwords and not word.isdigit()]\n",
    "\n",
    "            data.append(' '.join(words))\n",
    "            labels.append(root.split('/')[-1])"
   ]
  },
  {
   "cell_type": "code",
   "execution_count": 34,
   "metadata": {},
   "outputs": [],
   "source": [
    "test_data = data"
   ]
  },
  {
   "cell_type": "code",
   "execution_count": 35,
   "metadata": {},
   "outputs": [
    {
     "data": {
      "text/plain": [
       "4411"
      ]
     },
     "execution_count": 35,
     "metadata": {},
     "output_type": "execute_result"
    }
   ],
   "source": [
    "# 检测是否data已包含全部的训练数据\n",
    "len(data)"
   ]
  },
  {
   "cell_type": "code",
   "execution_count": 37,
   "metadata": {},
   "outputs": [],
   "source": [
    "# 使用TF-IDF算法将文本转换成向量\n",
    "vectorizer = TfidfVectorizer()\n",
    "tfidf_matrix = vectorizer.fit_transform(data)"
   ]
  },
  {
   "cell_type": "code",
   "execution_count": 40,
   "metadata": {},
   "outputs": [
    {
     "data": {
      "text/plain": [
       "<4411x58141 sparse matrix of type '<class 'numpy.float64'>'\n",
       "\twith 663459 stored elements in Compressed Sparse Row format>"
      ]
     },
     "execution_count": 40,
     "metadata": {},
     "output_type": "execute_result"
    }
   ],
   "source": [
    "tfidf_matrix"
   ]
  },
  {
   "cell_type": "code",
   "execution_count": 45,
   "metadata": {},
   "outputs": [
    {
     "name": "stdout",
     "output_type": "stream",
     "text": [
      "['1: 中国女曲能否击败韩国圆梦\\n', '2: 女垒锦标赛的会徽和吉祥物“丫丫”在南京首次亮相\\n', '3: 男子十米中国队双保险失灵 加澳抢得冠亚军\\n', '4: 中国体操在悉尼的辉煌与遗憾\\n', '5: 棒球联赛第二阶段首回合 沪上闷热击溃猛虎\\n', '6: 老帅盛赞国奥小将：具备亚洲顶级水平\\n', '7: 全国山地车冠军赛第二站：马艳萍获女子越野赛桂冠\\n', '8: 摩托罗拉世界名校赛艇对抗赛\\n', '9: 网球女单开赛：塞莱斯首战轻取对手\\n', '10: NBA：湖人主帅杰克逊支持科比']\n"
     ]
    }
   ],
   "source": [
    "test_content = []\n",
    "with open('./Chinese_Information_Retrieval_Task_Dataset/test.txt', 'r', encoding='GB2312', errors='ignore') as f:\n",
    "    lines = f.readlines()\n",
    "    for line in lines:\n",
    "        test_content.append(line)\n",
    "print(test_content)"
   ]
  },
  {
   "cell_type": "code",
   "execution_count": 44,
   "metadata": {},
   "outputs": [
    {
     "name": "stdout",
     "output_type": "stream",
     "text": [
      ": 中国女曲能否击败韩国圆梦\n",
      "\n",
      ": 女垒锦标赛的会徽和吉祥物“丫丫”在南京首次亮相\n",
      "\n",
      ": 男子十米中国队双保险失灵 加澳抢得冠亚军\n",
      "\n",
      ": 中国体操在悉尼的辉煌与遗憾\n",
      "\n",
      ": 棒球联赛第二阶段首回合 沪上闷热击溃猛虎\n",
      "\n",
      ": 老帅盛赞国奥小将：具备亚洲顶级水平\n",
      "\n",
      ": 全国山地车冠军赛第二站：马艳萍获女子越野赛桂冠\n",
      "\n",
      ": 摩托罗拉世界名校赛艇对抗赛\n",
      "\n",
      ": 网球女单开赛：塞莱斯首战轻取对手\n",
      "\n",
      ": NBA：湖人主帅杰克逊支持科比\n"
     ]
    }
   ],
   "source": [
    "# import re\n",
    "\n",
    "# for i in range(len(test_content)):\n",
    "#     tmp = test_content[i]\n",
    "#     s = re.sub(r\"\\d+\", \"\", tmp)\n",
    "#     print(s)"
   ]
  },
  {
   "cell_type": "code",
   "execution_count": 46,
   "metadata": {},
   "outputs": [],
   "source": [
    "# 将查询文本转换为tf-idf向量\n",
    "query_vector = []\n",
    "for i in range(len(test_content)):\n",
    "    tmp = vectorizer.transform([test_content[i]])\n",
    "    query_vector.append(tmp)"
   ]
  },
  {
   "cell_type": "code",
   "execution_count": 49,
   "metadata": {},
   "outputs": [
    {
     "data": {
      "text/plain": [
       "array([[0., 0., 0., ..., 0., 0., 0.]])"
      ]
     },
     "execution_count": 49,
     "metadata": {},
     "output_type": "execute_result"
    }
   ],
   "source": [
    "# 计算查询文本与文本库中的每个文本的相似度得分\n",
    "similarity_scores = cosine_similarity(query_vector[0], tfidf_matrix)\n",
    "similarity_scores"
   ]
  },
  {
   "cell_type": "code",
   "execution_count": 53,
   "metadata": {},
   "outputs": [
    {
     "name": "stdout",
     "output_type": "stream",
     "text": [
      "Top 1 match: \n",
      " \n",
      " 中国台北 选手 获 两枚 跆拳道 铜牌 Olympic.163   \n",
      " \n",
      " 　 　 赛程 　 比赛项目 　 百年 奥运 　 华夏 风流 　 奥运场馆 　 奥运 吉祥物 　 悉尼 风情 　 奥运 股市   　 .. 返回 首页   \n",
      " \n",
      " 　 位置 网易 首页     奥运 首页     go2map   悉尼 战报 跆拳道   文章 来源   网易 社区     \n",
      " \n",
      " \n",
      " 中国台北 选手 获 两枚 跆拳道 铜牌 \n",
      "   \n",
      " \n",
      " 　 　 刚刚 结束 跆拳道 争夺 第三名 比赛 中 中国台北 选手 黄志雄 夺得 男子 公斤 级 铜牌 中国台北 女选手 纪淑茹 女子 公斤 级 铜牌   \n",
      " \n",
      "   　 　   \n",
      " \n",
      " \n",
      " 　 我要 发表 评论       \n",
      " \n",
      " 　 相关 文章   　 热力 推荐     \n",
      " \n",
      " 快讯 澳大利亚 选手 夺得 女子 公斤 级 跆拳道 金牌   \n",
      " 盛泽田 无怨无悔   \n",
      " 盛泽田 退役   \n",
      " 美国 选手 获 公斤 级 古典式 摔跤 金牌   \n",
      " 古巴 选手 获 男子 古典式 摔跤 公斤 级 金牌       \n",
      " \n",
      " 奥运 股市   \n",
      " 马家军 梦断 悉尼   \n",
      " 战地 日记   \n",
      " 奥运 论坛   \n",
      " 奥运 精彩 瞬间   \n",
      " 关闭 窗口   \n",
      " \n",
      " About   Netease     公司简介     网站 导航     联系方法     广告 服务     招聘 信息     客户服务     相关 法律 \n",
      " aoyunservice staff.163 \n",
      " 网易公司 版权所有   copy            \n",
      "Top 2 match: \n",
      " \n",
      " 釜山 亚运会   \n",
      " \n",
      " 新闻 中心   釜山 评论   金牌 人物   赛程   资料   图酷   反 兴奋剂   直播   短信   有奖 活动           \n",
      " \n",
      " 体育 在线     釜山 亚运会       \n",
      " \n",
      "   花剑 王 海滨 战胜 金相勋 　 夺得 亚运会 首金 \n",
      " \n",
      "         人民网 北京 月 日讯 　 刚刚 结束 男子 花剑 决赛 中 中国 队员 王 海滨 不利 情况 反败为胜 第二局 比赛 中以 战胜 金相勋 勇夺 男子 花剑 金牌 中国队 夺取 第一枚 金牌 亚运会 第一枚 金牌 \n",
      " \n",
      "         王 海滨 半决赛 中 战胜 老 对手 韩国 队员 金泳 浩 决赛 韩国 选手 金相勋 相遇 金相勋 本届 亚运会 一匹 黑马 一路 过关斩将 杀入 决赛 比赛 王 海滨 主动进攻 刺中 情况 下王 海滨 先 做子 出 进攻 动作 先 一分 金相勋 颜色 刺中 王 海滨 部位 一分 王 海滨 利用 弓步 技术 连续 得分 领先 对手 王 海滨 进攻 空档 金相勋 得分 比分 反超 王 海滨 显得 急燥 大有 一口 吃掉 进攻 时剑臂 成 一条线 金相勋 抓住 空档 连续 得分 比分 追平 反超 大比分 领先 结束 第一局 比赛 \n",
      " \n",
      "         第二局 比赛 王 海滨 稳定 住 情绪 一分 一分 地去 拚博 王 海滨 进攻 主动 利用 剑 硬部 挡 剑 软 部位 刺中 部位 先得 一分 拚博 金相勋 形势 不利 情况 扑 王 海滨 身上 裁判 出示 红牌 罚掉 一分 王 海滨 比分 追成 金相勋 情绪 激动 王 海滨 经验丰富 抓住机会 连续 得分 而金 相勋 第二局 一分 未得 最终 王 海滨 比赛 第二局 战胜 对手 中国队 夺取 首枚 金牌 泰山 侠客 \n",
      " \n",
      "         本稿 亚运会 特稿 未经 特许 网站 含 常规 新闻 转载 授权 网站 媒体 转载       \n",
      " \n",
      " 体育 在线   年 月 日                 \n",
      " \n",
      " 相关 新闻   \n",
      " \n",
      " 相关 专题 \n",
      " \n",
      " 国际 剑联 男女 花剑 世界杯赛 上海 冷清 开场   \n",
      " \n",
      " 体育 在线 \n",
      " \n",
      " 釜山 亚运会 \n",
      " \n",
      " 项目 \n",
      " \n",
      " 镜像 美国 　 日本 　 教育网 　 科技网 \n",
      " E mail info peopledaily cn   \n",
      " 　 人民网 地图 　 信息   广告 服务   合作 加盟 　 网站 声明 　 招聘 英才 　 　 ENGLISH   京 ICP 证 号   \n",
      "   民   日   报   社   版   权       未     书   面   授   权   禁   止   复   制     建   立   镜            \n"
     ]
    }
   ],
   "source": [
    "# 对相似度得分进行排序，并返回排名前K的文本\n",
    "top_k = 2\n",
    "indices = np.argsort(similarity_scores)[0][::-1][:top_k]\n",
    "for i, idx in enumerate(indices):\n",
    "    print(f\"Top {i+1} match: {data[idx]}\")"
   ]
  },
  {
   "cell_type": "code",
   "execution_count": null,
   "metadata": {},
   "outputs": [],
   "source": []
  }
 ],
 "metadata": {
  "kernelspec": {
   "display_name": "Python 3.8.16 ('NLP')",
   "language": "python",
   "name": "python3"
  },
  "language_info": {
   "codemirror_mode": {
    "name": "ipython",
    "version": 3
   },
   "file_extension": ".py",
   "mimetype": "text/x-python",
   "name": "python",
   "nbconvert_exporter": "python",
   "pygments_lexer": "ipython3",
   "version": "3.8.16"
  },
  "orig_nbformat": 4,
  "vscode": {
   "interpreter": {
    "hash": "f42f7f39dfd1d68ef697f3320aa895151920417f4a016d10bdd04d80ad606e63"
   }
  }
 },
 "nbformat": 4,
 "nbformat_minor": 2
}
