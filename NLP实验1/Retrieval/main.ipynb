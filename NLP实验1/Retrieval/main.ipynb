{
 "cells": [
  {
   "cell_type": "code",
   "execution_count": 17,
   "metadata": {},
   "outputs": [],
   "source": [
    "import os\n",
    "import jieba\n",
    "import numpy as np\n",
    "from sklearn.metrics.pairwise import cosine_similarity\n",
    "from sklearn.feature_extraction.text import TfidfVectorizer"
   ]
  },
  {
   "cell_type": "code",
   "execution_count": 18,
   "metadata": {},
   "outputs": [],
   "source": [
    "# 停用词列表\n",
    "stopwords = []\n",
    "\n",
    "# 加载停用词列表\n",
    "with open('../stopwords/cn_stopwords.txt', encoding='utf-8') as f:\n",
    "    for line in f:\n",
    "        stopwords.append(line.strip())\n",
    "\n",
    "with open('../stopwords/hit_stopwords.txt', encoding='utf-8') as f:\n",
    "    for line in f:\n",
    "        stopwords.append(line.strip())\n",
    "\n",
    "with open('../stopwords/baidu_stopwords.txt', encoding='utf-8') as f:\n",
    "    for line in f:\n",
    "        stopwords.append(line.strip())\n",
    "\n",
    "with open('../stopwords/scu_stopwords.txt', encoding='utf-8') as f:\n",
    "    for line in f:\n",
    "        stopwords.append(line.strip())"
   ]
  },
  {
   "cell_type": "code",
   "execution_count": 31,
   "metadata": {},
   "outputs": [
    {
     "name": "stdout",
     "output_type": "stream",
     "text": [
      "dealing with train\n",
      "dealing with 20\n",
      "dealing with 18\n",
      "dealing with 9\n",
      "dealing with 11\n",
      "dealing with 7\n",
      "dealing with 16\n",
      "dealing with 6\n",
      "dealing with 17\n",
      "dealing with 1\n",
      "dealing with 10\n",
      "dealing with 19\n",
      "dealing with 26\n",
      "dealing with 8\n",
      "dealing with 21\n",
      "dealing with 24\n",
      "dealing with 23\n",
      "dealing with 4\n",
      "dealing with 15\n",
      "dealing with 3\n",
      "dealing with 12\n",
      "dealing with 2\n",
      "dealing with 13\n",
      "dealing with 5\n",
      "dealing with 14\n",
      "dealing with 22\n",
      "dealing with 25\n"
     ]
    }
   ],
   "source": [
    "# 读取train数据集\n",
    "data = []\n",
    "labels = []\n",
    "raw_data = []\n",
    "for root, dirs, files in os.walk('./Chinese_Information_Retrieval_Task_Dataset/train'):\n",
    "    print('dealing with {}'.format(root.split('/')[-1]))\n",
    "    for file in files:\n",
    "        with open(os.path.join(root, file), 'r', encoding='GB2312',errors='ignore') as f:\n",
    "            content = f.read()\n",
    "            raw_data.append(content)\n",
    "            # 中文分词\n",
    "            words = jieba.lcut(content)\n",
    "            # 过滤停用词和数字\n",
    "            words = [word for word in words if word not in stopwords and not word.isdigit()]\n",
    "\n",
    "            data.append(' '.join(words))\n",
    "            labels.append(root.split('/')[-1])"
   ]
  },
  {
   "cell_type": "code",
   "execution_count": 32,
   "metadata": {},
   "outputs": [],
   "source": [
    "test_data = data"
   ]
  },
  {
   "cell_type": "code",
   "execution_count": 33,
   "metadata": {},
   "outputs": [
    {
     "data": {
      "text/plain": [
       "4411"
      ]
     },
     "execution_count": 33,
     "metadata": {},
     "output_type": "execute_result"
    }
   ],
   "source": [
    "# 检测是否data已包含全部的训练数据\n",
    "len(data)"
   ]
  },
  {
   "cell_type": "code",
   "execution_count": 34,
   "metadata": {},
   "outputs": [],
   "source": [
    "# 使用TF-IDF算法将文本转换成向量\n",
    "vectorizer = TfidfVectorizer()\n",
    "tfidf_matrix = vectorizer.fit_transform(data)"
   ]
  },
  {
   "cell_type": "code",
   "execution_count": 35,
   "metadata": {},
   "outputs": [
    {
     "data": {
      "text/plain": [
       "<4411x58141 sparse matrix of type '<class 'numpy.float64'>'\n",
       "\twith 663459 stored elements in Compressed Sparse Row format>"
      ]
     },
     "execution_count": 35,
     "metadata": {},
     "output_type": "execute_result"
    }
   ],
   "source": [
    "tfidf_matrix"
   ]
  },
  {
   "cell_type": "code",
   "execution_count": 36,
   "metadata": {},
   "outputs": [
    {
     "name": "stdout",
     "output_type": "stream",
     "text": [
      "['1: 中国女曲能否击败韩国圆梦\\n', '2: 女垒锦标赛的会徽和吉祥物“丫丫”在南京首次亮相\\n', '3: 男子十米中国队双保险失灵 加澳抢得冠亚军\\n', '4: 中国体操在悉尼的辉煌与遗憾\\n', '5: 棒球联赛第二阶段首回合 沪上闷热击溃猛虎\\n', '6: 老帅盛赞国奥小将：具备亚洲顶级水平\\n', '7: 全国山地车冠军赛第二站：马艳萍获女子越野赛桂冠\\n', '8: 摩托罗拉世界名校赛艇对抗赛\\n', '9: 网球女单开赛：塞莱斯首战轻取对手\\n', '10: NBA：湖人主帅杰克逊支持科比']\n"
     ]
    }
   ],
   "source": [
    "test_content = []\n",
    "with open('./Chinese_Information_Retrieval_Task_Dataset/test.txt', 'r', encoding='GB2312', errors='ignore') as f:\n",
    "    lines = f.readlines()\n",
    "    for line in lines:\n",
    "        test_content.append(line)\n",
    "print(test_content)"
   ]
  },
  {
   "cell_type": "code",
   "execution_count": 37,
   "metadata": {},
   "outputs": [],
   "source": [
    "# 去除输入句子的序列号\n",
    "# import re\n",
    "\n",
    "# for i in range(len(test_content)):\n",
    "#     tmp = test_content[i]\n",
    "#     s = re.sub(r\"\\d+\", \"\", tmp)\n",
    "#     print(s)"
   ]
  },
  {
   "cell_type": "code",
   "execution_count": 38,
   "metadata": {},
   "outputs": [],
   "source": [
    "# 将查询文本转换为tf-idf向量\n",
    "query_vector = []\n",
    "for i in range(len(test_content)):\n",
    "    tmp = vectorizer.transform([test_content[i]])\n",
    "    query_vector.append(tmp)"
   ]
  },
  {
   "cell_type": "code",
   "execution_count": 39,
   "metadata": {},
   "outputs": [
    {
     "data": {
      "text/plain": [
       "array([[0., 0., 0., ..., 0., 0., 0.]])"
      ]
     },
     "execution_count": 39,
     "metadata": {},
     "output_type": "execute_result"
    }
   ],
   "source": [
    "# 计算查询文本与文本库中的每个文本的相似度得分\n",
    "similarity_scores = cosine_similarity(query_vector[0], tfidf_matrix)\n",
    "similarity_scores"
   ]
  },
  {
   "cell_type": "code",
   "execution_count": 42,
   "metadata": {},
   "outputs": [
    {
     "name": "stdout",
     "output_type": "stream",
     "text": [
      "Top 1 match: \n",
      "\n",
      "弗莱查夺得环法自行车赛第11赛段第一名  \n",
      "\n",
      "　　体育在线 >> 其它 >> 其他专题 >> 百年环法自行车赛 >> 相关新闻  \n",
      "\n",
      " 2003年7月18日08:59  \n",
      "\n",
      " 弗莱查夺得环法自行车赛第11赛段第一名\n",
      "\n",
      "\n",
      "　　新华网巴黎７月１７日电（记者王敬诚）参加环法自行车赛的车手们经过一天的休整后，１７日进行了第十一赛段的比赛。西班牙车手胡安・安东尼奥・弗莱查以３小时２９分３３秒夺得这一赛段的第一名，美国车手兰斯・阿姆斯特朗继续保持总成绩领先的地位。 \n",
      "\n",
      "    这是弗莱查第一次赢得赛段比赛的冠军。本赛季，弗莱查运气很差，在数个比赛中老是名列第二。为此，他对这次夺得第十一赛段第一名感到十分高兴，认为在第１００届环法自行车赛上能夺得赛段比赛的第一名，必将“名垂史册”。 \n",
      "\n",
      "    从第八赛段开始累计总成绩上升为第一名的阿姆斯特朗，当天以比弗莱查慢４２秒的成绩，第二十九个冲过终线。但他累计４９小时１６分３７秒的总成绩仍然占据着第一位，１８日将继续身穿“黄色领骑衫”。 \n",
      "\n",
      "    哈萨克斯坦车手亚历山大・维诺库罗夫当日紧跟阿姆斯特朗身后，第三十个冲过终线，总成绩依然比阿姆斯特朗慢２１秒，继续位居总成绩第二。 \n",
      "\n",
      "    第十一赛段比赛在法国南部地形比较平坦的公路上进行。起点为地中海港口城市纳博讷，其海拔只有２４米，终点是法国著名的航空航天工业城市图卢兹，海拔为１８０米，赛段全长１５３．５公里，是进入比利牛斯山区艰难赛段的前奏。 \n",
      "\n",
      "    当日１３：３４发车时，参赛车手从开赛时的１９８名减少至１７１名。　 \n",
      "\n",
      "    本届环法自行车赛１８日将进行第十二赛段的比赛，赛程只有４７公里，为个人计时赛。（完） \n",
      "\n",
      "新华网 2003年7月18日    \n",
      "\n",
      "给编辑写信  \n",
      "到留言板说说  关闭窗口       \n",
      "\n",
      "相关新闻 \n",
      "\n",
      "相关专题\n",
      "\n",
      "环法大赛骄阳似火阿姆斯特朗渴望假日\n",
      "\n",
      "环法自行车赛阿姆斯特朗继续保持总成绩第一\n",
      "\n",
      "环法第八赛段 西班牙车手伊・马约获得第一\n",
      "\n",
      "环法自行车第四赛段美国邮电队夺得第一 \n",
      "\n",
      "百年环法自行车赛\n",
      "\n",
      "其他专题\n",
      "\n",
      "关于人民网 关于体育在线 本站导航 广告服务 联系我们 京ICP证000006号 \n",
      "\n",
      "人 民 日 报 社 版 权 所 有 ， 未 经 书 面 授 权 禁 止 复 制 或 建 立 镜 像      \n",
      "==========================================================\n",
      "Top 2 match: \n",
      "\n",
      "周军宇：亚运男足前瞻  \n",
      "\n",
      "　　体育在线 >> 评论 >> 网友之声 >> 中原逐鹿 >> 梁秋荣  \n",
      "\n",
      " 2002年9月22日19:55  \n",
      "\n",
      " 周军宇：亚运男足前瞻\n",
      "\n",
      "\n",
      "    中国国奥男足不日将开赴韩国釜山角逐亚运会。与三个月前全军尽墨日韩世界杯的国家队不同，这支云集了目前中国足坛少壮派精英的国奥队，将一扫被动防守的颓气，大刀阔斧地展示中国新兴的攻势足球。\n",
      "\n",
      "    以三年来享誉中国足坛的中青队为班底组建的国奥队，是目前中国球迷公认的进攻足球的新鲜血液，从征战世青赛到夺取北京世界大学生运动会殿军，其默契灵活的战术和进攻不息的精神，与老气横秋的国家队形成鲜明的反照。\n",
      "\n",
      "    这次国奥队令人刮目。昔日少不更事的中青小将已在多年的职业联赛中百炼成钢。中国足球“班霸”的主力“五小虎”阎嵩、胡兆军、王圣、安琦、张耀坤全部入选，劲旅上海申花队的四员卫线主将悉数入围，连水平一般的南粤足坛，也有两员新锐前锋披上战袍。以技术和进攻为明显特点的国奥队，包罗了目前中国足坛攻势足球的新兴力量。\n",
      "\n",
      "    国奥队釜山之行，将呈现三大优势亮点：\n",
      "\n",
      "    一是富有活力的进攻型中场。与以往国字号球队惯用四后卫的保守战术不同，国奥队从中青队开始，就一直坚持三后卫打法，以三四三阵容最为拿手，摒弃了龟缩后方的防守反击，而是自信地调集重兵将防线前推到对手的中后场，御敌于国门之外，大打以攻为守的攻势足球。这无疑是近五年来中国国字号球队中，与世界足球战术潮流最为接近的一支。\n",
      "\n",
      "    二是心领神会的战术套路。国奥队绝大部分主力均拥有三年以上的配合经验，特别是在中国足坛著名的技术派教练沈祥福的引领下，战术套路和配合意识开始根深蒂固。特别是三到四人的中前场组合穿插突破、中场的群体协同逼抢以及高速高效的由守转攻，都已经在世青杯和大运会上入木三分。征战亚运会，战术锋芒只会有过之而无不及。\n",
      "\n",
      "    三是多样化的技术人才济济一堂。自从中青队时代起，这班进攻足球新锐就日益展示出比成人队更深厚的技术功底和意识根基，阵内虎将如云，各有千秋。左后卫徐亮是目前中国水平最高的任意球专家之一；安琦是少年老成的国家队门将；前卫胡兆军的百步穿杨术傲视同侪；粤将吴坪枫是近年来难得一见的快速技术型边锋；快刀王新欣的速度突破屡建奇功。此外，孙吉孙祥双胞胎前卫、前锋阎嵩、曲波等悍将，都在中国足坛拥有一技之长。不少球迷认为，这支国奥队是继八二年苏永舜率领的国家队之后，技术战术特点最丰富多彩的国字号球队。\n",
      "\n",
      "    不过，特点鲜明的国奥队也面临征战亚运会的三大难关：\n",
      "\n",
      "    一是备战不足。虽说中国足协以给国奥队备战为名，将联赛第二十轮提前到十九轮之前进行，但由于第二阶段联赛上周日才结束，所以，国奥队亚运会前的备战并无丝毫增加，充其量也就是两周时间，回顾中国球队参加亚运会的历史，这届国奥队恐怕是赛前备战时间最窘迫的一次。\n",
      "\n",
      "    二是深度疲劳。国奥小将们普遍身体机能处于深度疲劳状态，像在上海与日本国奥队比赛时，主力后卫王圣未能上场，就是因为血色素等指标表明他的身体非常疲劳，无柰沈祥福只好让他休息。另外，于涛、阎嵩与高明有伤在身，能否在这两周内恢复还是一个未知数。\n",
      "\n",
      "    三是陷入大龄对手的重围。这次征战亚运会的男足队，除中国和日本派出清一色的国奥队参加外，其他几乎全是混合型国家队。据悉，东道主韩国队为了在家门口证明自己在世界杯上的成绩并非浪得虚名，更是将组成以世界杯部分主力结合国奥队的强大阵容，伊朗队中也将有部分国脚。而西亚球队中，不少队以十强赛和上届奥运预选赛球员为班底，并且他们大多早在数月前就开始了封闭和国外飞行集训，也参加了大量高质量的热身赛。\n",
      "\n",
      "    国奥队征战釜山的预期目标是进入前四名。如无意外，这班中国足球的进攻新锐将会不辱使命。至于能否更上一层楼，则要取决于对阵的变数，特别是与志在必得的韩国队何时相逢。 \n",
      "\n",
      "体育在线 2002年9月22日    \n",
      "\n",
      "给编辑写信  \n",
      "到留言板说说  关闭窗口       \n",
      "\n",
      "相关新闻 \n",
      "\n",
      "相关专题\n",
      "\n",
      "全球的釜山--访亚运组委会公报运营团长高汉益\n",
      "\n",
      "运动员最大年龄54――数字解读中国亚运军团\n",
      "\n",
      "朝鲜代表团首批成员159人将于23日抵达釜山\n",
      "\n",
      "釜山亚运村明日开村 印尼代表团成首批客人\n",
      "\n",
      "韩国忙于庆祝秋夕节 釜山亚运23日全面启动\n",
      "\n",
      "亚运会韩日联手威胁 中国“五连冠”有难度\n",
      "\n",
      "釜山亚运会运动员村开村仪式将于23日举行\n",
      "\n",
      "釜山亚运会阿富汗将重返国际足联大家庭 \n",
      "\n",
      "网友之声\n",
      "\n",
      "评论\n",
      "\n",
      "体育在线\n",
      "\n",
      "釜山亚运会\n",
      "\n",
      "釜山评论\n",
      "\n",
      "项目\n",
      "\n",
      "中原逐鹿\n",
      "\n",
      "关于人民网 关于体育在线 本站导航 广告服务 联系我们 京ICP证000006号 \n",
      "\n",
      "人 民 日 报 社 版 权 所 有 ， 未 经 书 面 授 权 禁 止 复 制 或 建 立 镜 像       \n",
      "==========================================================\n",
      "Top 3 match: \n",
      "\n",
      "釜山亚运会 \n",
      "\n",
      "新闻中心 釜山评论 金牌人物 赛程 百科书 图酷 反兴奋剂 直播 有奖活动     \n",
      "\n",
      "体育在线 >> 国内足球 >> 国内足球专题   \n",
      "\n",
      " 阎世铎：国奥不能输弱队 谁都想来个开门红\n",
      "\n",
      " 张贺  葛爱平    \n",
      "\n",
      "    26日国奥队适应场地之前，看上去心情很好的阎世铎还接受了记者的采访。\n",
      "\n",
      "    记者：中国队是否适应这里的环境？\n",
      "\n",
      "    阎世铎：我经常对队伍讲这样的观点，我们的训练除了技战术外，其他各种环境都应该是训练的一个内容，比如说场地、饮食等等，很多方面我们都需要转变，需要转变一个观念，那就不是环境好不好的问题，而是我们能不能适应这个环境的问题。训练中讲究从实战出发，我觉得适应各种环境也是从实战出发。当然，我们前期的准备工作可能还仓促了一些。目前大家的感觉很好，对这里很适应。\n",
      "\n",
      "    记者：今天的训练为什么忽然改在这里呢？\n",
      "\n",
      "    阎世铎：今天我们原来定在釜山外国语学院体育场训练。但是根据技术手册，今天我们是应该到赛场进行适应训练的。上午开领队会议开到1点多，最后临时作了调整，我们才到这里来了，这是中午才临时做的决定。韩国方面对我们还是非常友好的，给我们创造了很好的条件。他们主管交通的人也来陪我们。我觉得他们对中国非常友好。\n",
      "\n",
      "    记者：以前中青队与中亚球队没有打过比赛，现在代表团对对手有了解吗？是不是希望开门红？\n",
      "\n",
      "    阎世铎：要说了解，大家互相都不是太了解。你说现在的韩国队你了解吗？队伍变化都很大，现在关键的问题是我们要有自信，要做好我们自己的准备，这很重要。现在我们也在搜集有关方面情况。明天开门红？谁都想来个开门红。我们这支队伍也是，每场比赛都会认真去打。\n",
      "\n",
      "    队伍这次来釜山，你说过希望进4强，这目标对他们来说，也是一种追求吧。他们能够在压力之下取得好成绩吗？球队能够完成预定目标吗？我觉得搞每一项工作都有压力，无非是竞技体育压力更大一些。我觉得他们很有信心，但是实现这个目标确实要付出很大的努力，我们要一道关一道关地闯，每个对手都要非常重视。其实，我们以前输掉的比赛，并不是强队，都输在弱队手里。虽然说比赛偶然性很大，但也有基本规律。   \n",
      "\n",
      "《体坛周报》 2002年9月27日        \n",
      "\n",
      "相关新闻 \n",
      "\n",
      "相关专题\n",
      "\n",
      "阎世铎釜山“重女轻男” 朝鲜成女足最大障碍\n",
      "\n",
      "屡屡施压希望从“头”焕然一新 阎世铎亚运赌前程\n",
      "\n",
      "阎世铎下飞机就开火 批评国奥工作进展缓慢\n",
      "\n",
      "国奥抵达韩国釜山 阎世铎遭遇中外记者围堵\n",
      "\n",
      "阎世铎亲自挂帅 国奥队今日出征釜山亚运\n",
      "\n",
      "国奥队后天启程出征亚运 阎世铎将亲自压阵 \n",
      "\n",
      "国内足球\n",
      "\n",
      "国内足球专题\n",
      "\n",
      "出征亚运\n",
      "\n",
      "体育在线\n",
      "\n",
      "釜山亚运会\n",
      "\n",
      "项目\n",
      "\n",
      "国奥出征亚运\n",
      "\n",
      "阎世铎\n",
      "\n",
      "足协声音\n",
      "\n",
      "镜像：美国　日本　教育网　科技网\n",
      "E_mail:info@peopledaily.com.cn \n",
      "关于我们　人民网地图　帮助信息 广告服务 合作加盟　网站声明　招聘英才　联系我们　ENGLISH 京ICP证000006号 \n",
      "人 民 日 报 社 版 权 所 有 ，未 经 书 面 授 权 禁 止 复 制 或 建 立 镜 像     \n",
      "==========================================================\n"
     ]
    }
   ],
   "source": [
    "# 对相似度得分进行排序，并返回排名前K的文本\n",
    "top_k = 3\n",
    "indices = np.argsort(similarity_scores)[0][::-1][:top_k]\n",
    "for i, idx in enumerate(indices):\n",
    "    print(f\"Top {i+1} match: {raw_data[idx]}\")\n",
    "    print(\"==========================================================\")"
   ]
  }
 ],
 "metadata": {
  "kernelspec": {
   "display_name": "Python 3.8.16 ('NLP')",
   "language": "python",
   "name": "python3"
  },
  "language_info": {
   "codemirror_mode": {
    "name": "ipython",
    "version": 3
   },
   "file_extension": ".py",
   "mimetype": "text/x-python",
   "name": "python",
   "nbconvert_exporter": "python",
   "pygments_lexer": "ipython3",
   "version": "3.7.16"
  },
  "orig_nbformat": 4,
  "vscode": {
   "interpreter": {
    "hash": "f42f7f39dfd1d68ef697f3320aa895151920417f4a016d10bdd04d80ad606e63"
   }
  }
 },
 "nbformat": 4,
 "nbformat_minor": 2
}
