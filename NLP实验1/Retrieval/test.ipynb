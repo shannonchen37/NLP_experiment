{
 "cells": [
  {
   "cell_type": "code",
   "execution_count": 1,
   "metadata": {},
   "outputs": [
    {
     "name": "stdout",
     "output_type": "stream",
     "text": [
      "Top 1 match: The quick brown fox jumps over the lazy dog\n",
      "Top 2 match: The early bird catches the worm\n"
     ]
    }
   ],
   "source": [
    "import numpy as np\n",
    "from sklearn.feature_extraction.text import TfidfVectorizer\n",
    "from sklearn.metrics.pairwise import cosine_similarity\n",
    "\n",
    "# 生成文本库\n",
    "documents = [\n",
    "    \"The quick brown fox jumps over the lazy dog\",\n",
    "    \"A stitch in time saves nine\",\n",
    "    \"The early bird catches the worm\",\n",
    "    \"Actions speak louder than words\",\n",
    "    \"The pen is mightier than the sword\"\n",
    "]\n",
    "\n",
    "# 将文本转换为tf-idf向量\n",
    "vectorizer = TfidfVectorizer()\n",
    "tfidf_matrix = vectorizer.fit_transform(documents)\n",
    "\n",
    "# 定义查询文本\n",
    "query = \"The lazy dog\"\n",
    "\n",
    "# 将查询文本转换为tf-idf向量\n",
    "query_vector = vectorizer.transform([query])\n",
    "\n",
    "# 计算查询文本与文本库中的每个文本的相似度得分\n",
    "similarity_scores = cosine_similarity(query_vector, tfidf_matrix)\n",
    "\n",
    "# 对相似度得分进行排序，并返回排名前K的文本\n",
    "top_k = 2\n",
    "indices = np.argsort(similarity_scores)[0][::-1][:top_k]\n",
    "for i, idx in enumerate(indices):\n",
    "    print(f\"Top {i+1} match: {documents[idx]}\")"
   ]
  },
  {
   "cell_type": "code",
   "execution_count": null,
   "metadata": {},
   "outputs": [],
   "source": []
  }
 ],
 "metadata": {
  "kernelspec": {
   "display_name": "Python 3.8.16 ('NLP')",
   "language": "python",
   "name": "python3"
  },
  "language_info": {
   "codemirror_mode": {
    "name": "ipython",
    "version": 3
   },
   "file_extension": ".py",
   "mimetype": "text/x-python",
   "name": "python",
   "nbconvert_exporter": "python",
   "pygments_lexer": "ipython3",
   "version": "3.8.16"
  },
  "orig_nbformat": 4,
  "vscode": {
   "interpreter": {
    "hash": "f42f7f39dfd1d68ef697f3320aa895151920417f4a016d10bdd04d80ad606e63"
   }
  }
 },
 "nbformat": 4,
 "nbformat_minor": 2
}
