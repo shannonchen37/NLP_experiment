{
 "cells": [
  {
   "cell_type": "code",
   "execution_count": 2,
   "metadata": {},
   "outputs": [],
   "source": [
    "from ltp import LTP\n",
    "ltp = LTP() # 默认加载 LTP/Small 模型\n",
    "# ltp = LTP(path = \"LTP/base|LTP/small|LTP/tiny\")"
   ]
  },
  {
   "cell_type": "code",
   "execution_count": 19,
   "metadata": {},
   "outputs": [],
   "source": [
    "import logging\n",
    "# 配置日志输出到文件\n",
    "logging.basicConfig(filename='./output.log', level=logging.INFO, format='%(message)s')"
   ]
  },
  {
   "attachments": {},
   "cell_type": "markdown",
   "metadata": {},
   "source": [
    "#### 分句"
   ]
  },
  {
   "cell_type": "code",
   "execution_count": 15,
   "metadata": {},
   "outputs": [
    {
     "data": {
      "text/plain": [
       "['汤姆生病了。', '他去了医院。']"
      ]
     },
     "execution_count": 15,
     "metadata": {},
     "output_type": "execute_result"
    }
   ],
   "source": [
    "from ltp import StnSplit\n",
    "sents = StnSplit().split(\"汤姆生病了。他去了医院。\")\n",
    "# [\n",
    "#   \"汤姆生病了。\",\n",
    "#   \"他去了医院。\"\n",
    "# ]\n",
    "print(sents)"
   ]
  },
  {
   "cell_type": "code",
   "execution_count": 16,
   "metadata": {},
   "outputs": [
    {
     "name": "stdout",
     "output_type": "stream",
     "text": [
      "['他叫汤姆去拿外衣。', '汤姆生病了。', '他去了医院。']\n"
     ]
    }
   ],
   "source": [
    "sents2 = StnSplit().batch_split([\"他叫汤姆去拿外衣。\", \"汤姆生病了。他去了医院。\"])\n",
    "# [\n",
    "#   \"他叫汤姆去拿外衣。\",\n",
    "#   \"汤姆生病了。\",\n",
    "#   \"他去了医院。\"\n",
    "# ]\n",
    "print(sents2)"
   ]
  },
  {
   "attachments": {},
   "cell_type": "markdown",
   "metadata": {},
   "source": [
    "#### 用户自定义词典"
   ]
  },
  {
   "cell_type": "code",
   "execution_count": 6,
   "metadata": {},
   "outputs": [],
   "source": [
    "from ltp import LTP\n",
    "ltp = LTP()\n",
    "# 也可以在代码中添加自定义的词语\n",
    "ltp.add_words(words=\"长江大桥\", freq = 2)"
   ]
  },
  {
   "attachments": {},
   "cell_type": "markdown",
   "metadata": {},
   "source": [
    "#### 分词"
   ]
  },
  {
   "cell_type": "code",
   "execution_count": 17,
   "metadata": {},
   "outputs": [
    {
     "name": "stdout",
     "output_type": "stream",
     "text": [
      "([['他', '叫', '汤姆', '去', '拿', '外衣', '。']],)\n"
     ]
    }
   ],
   "source": [
    "from ltp import LTP\n",
    "\n",
    "ltp = LTP()\n",
    "\n",
    "words = ltp.pipeline([\"他叫汤姆去拿外衣。\"], tasks = [\"cws\"], return_dict = False)\n",
    "print(words)\n",
    "# [['他', '叫', '汤姆', '去', '拿', '外衣', '。']]"
   ]
  },
  {
   "attachments": {},
   "cell_type": "markdown",
   "metadata": {},
   "source": [
    "#### 词性标注"
   ]
  },
  {
   "cell_type": "code",
   "execution_count": 18,
   "metadata": {},
   "outputs": [
    {
     "name": "stdout",
     "output_type": "stream",
     "text": [
      "[['他', '叫', '汤姆', '去', '拿', '外衣', '。']]\n",
      "[['r', 'v', 'nh', 'v', 'v', 'n', 'wp']]\n"
     ]
    }
   ],
   "source": [
    "from ltp import LTP\n",
    "\n",
    "ltp = LTP()\n",
    "\n",
    "result = ltp.pipeline([\"他叫汤姆去拿外衣。\"], tasks = [\"cws\",\"pos\"])\n",
    "print(result.cws)\n",
    "print(result.pos)\n",
    "# [['他', '叫', '汤姆', '去', '拿', '外衣', '。']]\n",
    "# [['r', 'v', 'nh', 'v', 'v', 'n', 'wp']]"
   ]
  },
  {
   "attachments": {},
   "cell_type": "markdown",
   "metadata": {},
   "source": [
    "#### 命名实体识别"
   ]
  },
  {
   "cell_type": "code",
   "execution_count": 9,
   "metadata": {},
   "outputs": [
    {
     "name": "stdout",
     "output_type": "stream",
     "text": [
      "[[('Nh', '汤姆')]]\n"
     ]
    }
   ],
   "source": [
    "from ltp import LTP\n",
    "\n",
    "ltp = LTP()\n",
    "\n",
    "result = ltp.pipeline([\"他叫汤姆去拿外衣。\"], tasks = [\"cws\",\"ner\"])\n",
    "print(result.ner)\n",
    "# [['他', '叫', '汤姆', '去', '拿', '外衣', '。']]\n",
    "# Nh 表示人名"
   ]
  },
  {
   "attachments": {},
   "cell_type": "markdown",
   "metadata": {},
   "source": [
    "#### 语义角色标注"
   ]
  },
  {
   "cell_type": "code",
   "execution_count": 10,
   "metadata": {},
   "outputs": [
    {
     "name": "stdout",
     "output_type": "stream",
     "text": [
      "[[{'predicate': '叫', 'arguments': [('A0', '他'), ('A1', '汤姆'), ('A2', '去拿外衣')]}, {'predicate': '拿', 'arguments': [('A0', '汤姆'), ('A1', '外衣')]}]]\n"
     ]
    }
   ],
   "source": [
    "from ltp import LTP\n",
    "\n",
    "ltp = LTP()\n",
    "\n",
    "result = ltp.pipeline([\"他叫汤姆去拿外衣。\"], tasks = [\"cws\",\"srl\"])\n",
    "print(result.srl)"
   ]
  },
  {
   "attachments": {},
   "cell_type": "markdown",
   "metadata": {},
   "source": [
    "#### 依存句法分析 "
   ]
  },
  {
   "cell_type": "code",
   "execution_count": 11,
   "metadata": {},
   "outputs": [
    {
     "name": "stdout",
     "output_type": "stream",
     "text": [
      "[{'head': [2, 0, 2, 5, 2, 5, 2], 'label': ['SBV', 'HED', 'DBL', 'ADV', 'VOB', 'VOB', 'WP']}]\n"
     ]
    }
   ],
   "source": [
    "from ltp import LTP\n",
    "\n",
    "ltp = LTP()\n",
    "\n",
    "result = ltp.pipeline([\"他叫汤姆去拿外衣。\"], tasks = [\"cws\",\"dep\"])\n",
    "print(result.dep)"
   ]
  },
  {
   "attachments": {},
   "cell_type": "markdown",
   "metadata": {},
   "source": [
    "#### 语义依存分析(树)"
   ]
  },
  {
   "cell_type": "code",
   "execution_count": 12,
   "metadata": {},
   "outputs": [
    {
     "name": "stdout",
     "output_type": "stream",
     "text": [
      "[{'head': [2, 0, 2, 2, 4, 5, 2], 'label': ['AGT', 'Root', 'DATV', 'eSUCC', 'eSUCC', 'PAT', 'mPUNC']}]\n"
     ]
    }
   ],
   "source": [
    "from ltp import LTP\n",
    "\n",
    "ltp = LTP()\n",
    "\n",
    "result = ltp.pipeline([\"他叫汤姆去拿外衣。\"], tasks = [\"cws\",\"sdp\"])\n",
    "print(result.sdp)"
   ]
  },
  {
   "attachments": {},
   "cell_type": "markdown",
   "metadata": {},
   "source": [
    "####  语义依存分析(图)"
   ]
  },
  {
   "cell_type": "code",
   "execution_count": 13,
   "metadata": {},
   "outputs": [
    {
     "name": "stdout",
     "output_type": "stream",
     "text": [
      "[[(1, 2, 'AGT'), (2, 0, 'Root'), (3, 2, 'DATV'), (3, 4, 'AGT'), (3, 5, 'AGT'), (4, 2, 'eSUCC'), (5, 2, 'eSUCC'), (5, 4, 'eSUCC'), (6, 5, 'PAT'), (7, 2, 'mPUNC')]]\n"
     ]
    }
   ],
   "source": [
    "from ltp import LTP\n",
    "\n",
    "ltp = LTP()\n",
    "\n",
    "result = ltp.pipeline([\"他叫汤姆去拿外衣。\"], tasks = [\"cws\",\"sdpg\"])\n",
    "print(result.sdpg)"
   ]
  }
 ],
 "metadata": {
  "kernelspec": {
   "display_name": "NLP",
   "language": "python",
   "name": "python3"
  },
  "language_info": {
   "codemirror_mode": {
    "name": "ipython",
    "version": 3
   },
   "file_extension": ".py",
   "mimetype": "text/x-python",
   "name": "python",
   "nbconvert_exporter": "python",
   "pygments_lexer": "ipython3",
   "version": "3.7.16"
  },
  "orig_nbformat": 4
 },
 "nbformat": 4,
 "nbformat_minor": 2
}
